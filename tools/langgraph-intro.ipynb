{
 "cells": [
  {
   "cell_type": "code",
   "execution_count": 73,
   "id": "c5915e6d",
   "metadata": {},
   "outputs": [],
   "source": [
    "from dotenv import load_dotenv\n",
    "import os\n",
    "import json\n",
    "from pprint import pprint, pp\n",
    "from langchain_openai import OpenAIEmbeddings\n",
    "from langchain_text_splitters   import RecursiveCharacterTextSplitter\n",
    "from langchain_huggingface.embeddings import  HuggingFaceEmbeddings\n",
    "from langchain_google_genai.embeddings import GoogleGenerativeAIEmbeddings\n",
    "\n",
    "from langchain_community.document_loaders import PyPDFLoader,TextLoader\n",
    "from typing import IO, BinaryIO\n",
    "from langchain_openai import ChatOpenAI\n",
    "from langchain.chains.question_answering import load_qa_chain\n",
    "from langchain.chains import RetrievalQA\n",
    "from uuid import uuid4\n",
    "from langchain import hub\n",
    "from langchain_core.runnables import RunnablePassthrough\n",
    "from langchain_core.output_parsers import StrOutputParser\n",
    "from typing import Literal\n",
    "\n",
    "# for Chroma \n",
    "import chromadb\n",
    "from langchain_chroma import Chroma\n",
    "# for FAISS\n",
    "import faiss\n",
    "from langchain_community.vectorstores import FAISS\n",
    "from langchain_community.docstore.in_memory import InMemoryDocstore\n"
   ]
  },
  {
   "cell_type": "code",
   "execution_count": 74,
   "id": "401554b4",
   "metadata": {},
   "outputs": [],
   "source": [
    "%config IPCompleter.greedy=True"
   ]
  },
  {
   "cell_type": "code",
   "execution_count": 75,
   "id": "58ca8368",
   "metadata": {},
   "outputs": [],
   "source": [
    "load_dotenv(\"../../../../../tokens/token_env\")\n",
    "#load_dotenv(\"langsmith_env\")os.environ[\"OPENAI_API_KEY\"] = os.getenv(\"OPENAI_API_KEY\")\n",
    "os.environ[\"LANGCHAIN_API_KEY\"] = os.getenv(\"LANGCHAIN_API_KEY\")\n",
    "os.environ[\"GROQ_API_KEY\"] = os.getenv(\"GROQ_API_KEY\")\n",
    "os.environ[\"HF_TOKEN\"] = os.getenv(\"HF_TOKEN\")\n",
    "os.environ[\"GEMINI_API_KEY\"] = os.getenv(\"GEMINI_API_KEY\")\n",
    "os.environ[\"TAVILY_API_KEY\"] = os.getenv(\"TAVILY_API_KEY\")\n",
    "#os.environ[\"LANGCHAIN_PROJECT\"] = os.getenv(\"LANGCHAIN_PROJECT\")\n",
    "#os.environ[\"LANGCHAIN_TRACING_V2\"] = \"true\""
   ]
  },
  {
   "cell_type": "code",
   "execution_count": 76,
   "id": "7fc6369c",
   "metadata": {},
   "outputs": [],
   "source": [
    "embeddings = OpenAIEmbeddings(model=\"text-embedding-3-small\")\n",
    "llm = ChatOpenAI(model='gpt-4o', temperature=0.2)"
   ]
  },
  {
   "cell_type": "markdown",
   "id": "52282712",
   "metadata": {},
   "source": [
    "https://python.langchain.com/docs/integrations/tools/\n",
    "https://github.com/sunnysavita10/Agentic-2.0/blob/main/langgraph/tools.ipynb"
   ]
  },
  {
   "cell_type": "code",
   "execution_count": 77,
   "id": "68d55818",
   "metadata": {},
   "outputs": [],
   "source": [
    "from langgraph.graph import Graph,START,END\n",
    "from IPython.display import Image,display"
   ]
  },
  {
   "cell_type": "code",
   "execution_count": 78,
   "id": "53b8c337",
   "metadata": {},
   "outputs": [],
   "source": [
    "def entry_function(input: str) -> str:\n",
    "    return input.upper() + \" from entry functon\""
   ]
  },
  {
   "cell_type": "code",
   "execution_count": 79,
   "id": "0a785d54",
   "metadata": {},
   "outputs": [
    {
     "data": {
      "text/plain": [
       "'MILIND from entry functon'"
      ]
     },
     "execution_count": 79,
     "metadata": {},
     "output_type": "execute_result"
    }
   ],
   "source": [
    "entry_function(\"milind\")"
   ]
  },
  {
   "cell_type": "code",
   "execution_count": 80,
   "id": "2dd00452",
   "metadata": {},
   "outputs": [],
   "source": [
    "def end_function(input: str) -> str:\n",
    "    return f\" from middle functon received {input}\""
   ]
  },
  {
   "cell_type": "code",
   "execution_count": 81,
   "id": "747a7056",
   "metadata": {},
   "outputs": [
    {
     "data": {
      "text/plain": [
       "' from middle functon received MILIND from entry functon'"
      ]
     },
     "execution_count": 81,
     "metadata": {},
     "output_type": "execute_result"
    }
   ],
   "source": [
    "end_function(\"MILIND from entry functon\")"
   ]
  },
  {
   "cell_type": "code",
   "execution_count": 82,
   "id": "a8f285bc",
   "metadata": {},
   "outputs": [],
   "source": [
    "def conditional_function(input: str) -> Literal[\"rainy\", \"sunny\"]:\n",
    "    if \"rainy\" in input.lower():\n",
    "        return \"rainy\"\n",
    "    else:\n",
    "        return \"sunny\"\n"
   ]
  },
  {
   "cell_type": "code",
   "execution_count": 83,
   "id": "14e1aca6",
   "metadata": {},
   "outputs": [],
   "source": [
    "def middle_function_condition1(input: str) -> str:\n",
    "     return input.lower() + \"_1\""
   ]
  },
  {
   "cell_type": "code",
   "execution_count": 84,
   "id": "45cad67a",
   "metadata": {},
   "outputs": [],
   "source": [
    "def middle_function_condition2(input: str) -> str:\n",
    "     return input.upper() + \"_2\""
   ]
  },
  {
   "cell_type": "code",
   "execution_count": 85,
   "id": "027b50eb",
   "metadata": {},
   "outputs": [],
   "source": [
    "workflow = Graph()"
   ]
  },
  {
   "cell_type": "code",
   "execution_count": 86,
   "id": "90a290f8",
   "metadata": {},
   "outputs": [
    {
     "data": {
      "text/plain": [
       "<langgraph.graph.graph.Graph at 0x111fa4e90>"
      ]
     },
     "execution_count": 86,
     "metadata": {},
     "output_type": "execute_result"
    }
   ],
   "source": [
    "workflow.add_node(\"Start\", entry_function)\n",
    "workflow.add_node(\"End\", end_function)\n",
    "workflow.add_node(\"Condition\",conditional_function)\n",
    "workflow.add_node(\"rainy\", middle_function_condition1)\n",
    "workflow.add_node(\"sunny\", middle_function_condition2)\n"
   ]
  },
  {
   "cell_type": "code",
   "execution_count": 87,
   "id": "1e3b39c3",
   "metadata": {},
   "outputs": [
    {
     "data": {
      "text/plain": [
       "<langgraph.graph.graph.Graph at 0x111fa4e90>"
      ]
     },
     "execution_count": 87,
     "metadata": {},
     "output_type": "execute_result"
    }
   ],
   "source": [
    "workflow.add_edge(START, \"Start\")\n",
    "workflow.add_edge(\"Start\", \"Condition\")\n",
    "workflow.add_conditional_edges(\"Condition\", conditional_function)\n",
    "workflow.add_edge(\"rainy\", \"End\")\n",
    "workflow.add_edge(\"sunny\", \"End\")\n",
    "workflow.add_edge(\"End\", END)\n"
   ]
  },
  {
   "cell_type": "code",
   "execution_count": 88,
   "id": "acd5dffd",
   "metadata": {},
   "outputs": [],
   "source": [
    "#workflow.set_entry_point(\"Start\")\n",
    "#workflow.set_finish_point(\"End\")"
   ]
  },
  {
   "cell_type": "code",
   "execution_count": 89,
   "id": "4b83d722",
   "metadata": {},
   "outputs": [],
   "source": [
    "app = workflow.compile()"
   ]
  },
  {
   "cell_type": "code",
   "execution_count": 90,
   "id": "276eee18",
   "metadata": {},
   "outputs": [],
   "source": [
    "png = app.get_graph().draw_mermaid_png()"
   ]
  },
  {
   "cell_type": "code",
   "execution_count": 91,
   "id": "c8b57ae9",
   "metadata": {},
   "outputs": [
    {
     "data": {
      "image/png": "[encoded data removed]",
      "text/plain": [
       "<IPython.core.display.Image object>"
      ]
     },
     "metadata": {},
     "output_type": "display_data"
    }
   ],
   "source": [
    "display(Image(png))"
   ]
  },
  {
   "cell_type": "code",
   "execution_count": 92,
   "id": "dede9421",
   "metadata": {},
   "outputs": [
    {
     "name": "stdout",
     "output_type": "stream",
     "text": [
      "Start  - RAINY from entry functon\n",
      "--------\n",
      "Condition  - rainy\n",
      "--------\n",
      "rainy  - rainy_1\n",
      "--------\n",
      "End  -  from middle functon received rainy_1\n",
      "--------\n"
     ]
    }
   ],
   "source": [
    "for output in app.stream(\"rainy\"):\n",
    "    for key, value in output.items():\n",
    "        print(f\"{key}  - {value}\")\n",
    "        print(\"--------\")"
   ]
  },
  {
   "cell_type": "code",
   "execution_count": 93,
   "id": "6feb8ff8",
   "metadata": {},
   "outputs": [
    {
     "name": "stdout",
     "output_type": "stream",
     "text": [
      "Start  - SUNNY from entry functon\n",
      "--------\n",
      "Condition  - sunny\n",
      "--------\n",
      "sunny  - SUNNY_2\n",
      "--------\n",
      "End  -  from middle functon received SUNNY_2\n",
      "--------\n"
     ]
    }
   ],
   "source": [
    "for output in app.stream(\"sunny\"):\n",
    "    for key, value in output.items():\n",
    "        print(f\"{key}  - {value}\")\n",
    "        print(\"--------\")"
   ]
  },
  {
   "cell_type": "code",
   "execution_count": 94,
   "id": "bb1ce676",
   "metadata": {},
   "outputs": [],
   "source": [
    "def myllm(input: str) -> str:\n",
    "    response= llm.invoke(input)\n",
    "    return response.content"
   ]
  },
  {
   "cell_type": "code",
   "execution_count": 95,
   "id": "4e53c87e",
   "metadata": {},
   "outputs": [],
   "source": [
    "def count_tokens(input: str) -> int:\n",
    "    return len(input.split())"
   ]
  },
  {
   "cell_type": "code",
   "execution_count": 96,
   "id": "f1288aad",
   "metadata": {},
   "outputs": [],
   "source": [
    "workflow2 = Graph()"
   ]
  },
  {
   "cell_type": "code",
   "execution_count": 99,
   "id": "ae21a0a0",
   "metadata": {},
   "outputs": [
    {
     "data": {
      "text/plain": [
       "<langgraph.graph.graph.Graph at 0x111f0dfd0>"
      ]
     },
     "execution_count": 99,
     "metadata": {},
     "output_type": "execute_result"
    }
   ],
   "source": [
    "workflow2.add_node(\"Start2\", myllm)\n",
    "workflow2.add_node(\"End2\", count_tokens)\n",
    "workflow2.add_edge(\"Start2\",\"End2\")"
   ]
  },
  {
   "cell_type": "code",
   "execution_count": 100,
   "id": "63fef6bc",
   "metadata": {},
   "outputs": [
    {
     "data": {
      "text/plain": [
       "<langgraph.graph.graph.Graph at 0x111f0dfd0>"
      ]
     },
     "execution_count": 100,
     "metadata": {},
     "output_type": "execute_result"
    }
   ],
   "source": [
    "workflow2.set_entry_point(\"Start2\")\n",
    "workflow2.set_finish_point(\"End2\")"
   ]
  },
  {
   "cell_type": "code",
   "execution_count": 101,
   "id": "4b7ff86a",
   "metadata": {},
   "outputs": [],
   "source": [
    "app2 =workflow2.compile()"
   ]
  },
  {
   "cell_type": "code",
   "execution_count": 102,
   "id": "7d8d5956",
   "metadata": {},
   "outputs": [],
   "source": [
    "png2 = app2.get_graph().draw_mermaid_png()"
   ]
  },
  {
   "cell_type": "code",
   "execution_count": 103,
   "id": "727ea24d",
   "metadata": {},
   "outputs": [
    {
     "data": {
      "image/png": "[encoded data removed]",
      "text/plain": [
       "<IPython.core.display.Image object>"
      ]
     },
     "metadata": {},
     "output_type": "display_data"
    }
   ],
   "source": [
    "display(Image(png2))"
   ]
  },
  {
   "cell_type": "code",
   "execution_count": 104,
   "id": "c0d09d83",
   "metadata": {},
   "outputs": [
    {
     "data": {
      "text/plain": [
       "60"
      ]
     },
     "execution_count": 104,
     "metadata": {},
     "output_type": "execute_result"
    }
   ],
   "source": [
    "app2.invoke(\"who is father of automic bomb\")"
   ]
  },
  {
   "cell_type": "code",
   "execution_count": 117,
   "id": "83b19ad9",
   "metadata": {},
   "outputs": [
    {
     "data": {
      "text/plain": [
       "<generator object Pregel.stream at 0x112eb8740>"
      ]
     },
     "execution_count": 117,
     "metadata": {},
     "output_type": "execute_result"
    }
   ],
   "source": [
    "app2.stream(\"who is father of automic bomb\")"
   ]
  },
  {
   "cell_type": "code",
   "execution_count": 120,
   "id": "a9a5dd11",
   "metadata": {},
   "outputs": [
    {
     "name": "stdout",
     "output_type": "stream",
     "text": [
      "Start2\n",
      "---------\n",
      "The father of the atomic bomb is commonly referred to as J. Robert Oppenheimer. He was the scientific director of the Manhattan Project, the World War II project that developed the first nuclear weapons.\n",
      "End2\n",
      "---------\n",
      "34\n"
     ]
    }
   ],
   "source": [
    "for output in app2.stream(\"who is father of automic bomb\"):\n",
    "    for k,v in output.items():\n",
    "        print(k)\n",
    "        print(\"---------\")\n",
    "        print(v)"
   ]
  },
  {
   "cell_type": "code",
   "execution_count": null,
   "id": "e8ccf8fe",
   "metadata": {},
   "outputs": [],
   "source": []
  }
 ],
 "metadata": {
  "kernelspec": {
   "display_name": "llm",
   "language": "python",
   "name": "python3"
  },
  "language_info": {
   "codemirror_mode": {
    "name": "ipython",
    "version": 3
   },
   "file_extension": ".py",
   "mimetype": "text/x-python",
   "name": "python",
   "nbconvert_exporter": "python",
   "pygments_lexer": "ipython3",
   "version": "3.12.10"
  }
 },
 "nbformat": 4,
 "nbformat_minor": 5
}
