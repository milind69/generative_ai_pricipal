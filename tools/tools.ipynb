{
 "cells": [
  {
   "cell_type": "code",
   "execution_count": 2,
   "id": "c5915e6d",
   "metadata": {},
   "outputs": [],
   "source": [
    "from dotenv import load_dotenv\n",
    "import os\n",
    "import json\n",
    "from pprint import pprint, pp\n",
    "from langchain_openai import OpenAIEmbeddings\n",
    "from langchain_text_splitters   import RecursiveCharacterTextSplitter\n",
    "from langchain_huggingface.embeddings import  HuggingFaceEmbeddings\n",
    "from langchain_google_genai.embeddings import GoogleGenerativeAIEmbeddings\n",
    "\n",
    "from langchain_community.document_loaders import PyPDFLoader,TextLoader\n",
    "from typing import IO, BinaryIO\n",
    "from langchain_openai import ChatOpenAI\n",
    "from langchain.chains.question_answering import load_qa_chain\n",
    "from langchain.chains import RetrievalQA\n",
    "from uuid import uuid4\n",
    "from langchain import hub\n",
    "from langchain_core.runnables import RunnablePassthrough\n",
    "from langchain_core.output_parsers import StrOutputParser\n",
    "\n",
    "# for Chroma \n",
    "import chromadb\n",
    "from langchain_chroma import Chroma\n",
    "# for FAISS\n",
    "import faiss\n",
    "from langchain_community.vectorstores import FAISS\n",
    "from langchain_community.docstore.in_memory import InMemoryDocstore\n"
   ]
  },
  {
   "cell_type": "code",
   "execution_count": 3,
   "id": "401554b4",
   "metadata": {},
   "outputs": [],
   "source": [
    "%config IPCompleter.greedy=True"
   ]
  },
  {
   "cell_type": "code",
   "execution_count": 56,
   "id": "58ca8368",
   "metadata": {},
   "outputs": [],
   "source": [
    "load_dotenv(\"../../../../../tokens/token_env\")\n",
    "#load_dotenv(\"langsmith_env\")os.environ[\"OPENAI_API_KEY\"] = os.getenv(\"OPENAI_API_KEY\")\n",
    "os.environ[\"LANGCHAIN_API_KEY\"] = os.getenv(\"LANGCHAIN_API_KEY\")\n",
    "os.environ[\"GROQ_API_KEY\"] = os.getenv(\"GROQ_API_KEY\")\n",
    "os.environ[\"HF_TOKEN\"] = os.getenv(\"HF_TOKEN\")\n",
    "os.environ[\"GEMINI_API_KEY\"] = os.getenv(\"GEMINI_API_KEY\")\n",
    "os.environ[\"TAVILY_API_KEY\"] = os.getenv(\"TAVILY_API_KEY\")\n",
    "#os.environ[\"LANGCHAIN_PROJECT\"] = os.getenv(\"LANGCHAIN_PROJECT\")\n",
    "#os.environ[\"LANGCHAIN_TRACING_V2\"] = \"true\""
   ]
  },
  {
   "cell_type": "code",
   "execution_count": 7,
   "id": "7fc6369c",
   "metadata": {},
   "outputs": [],
   "source": [
    "embeddings = OpenAIEmbeddings(model=\"text-embedding-3-small\")\n",
    "llm = ChatOpenAI(model='gpt-4o', temperature=0.2)"
   ]
  },
  {
   "cell_type": "markdown",
   "id": "52282712",
   "metadata": {},
   "source": [
    "https://python.langchain.com/docs/integrations/tools/\n",
    "https://github.com/sunnysavita10/Agentic-2.0/blob/main/langgraph/tools.ipynb"
   ]
  },
  {
   "cell_type": "code",
   "execution_count": 11,
   "id": "38269c18",
   "metadata": {},
   "outputs": [],
   "source": [
    "from langchain_community.tools import WikipediaQueryRun\n",
    "from langchain_community.utilities import WikipediaAPIWrapper"
   ]
  },
  {
   "cell_type": "code",
   "execution_count": 40,
   "id": "ad0bb72d",
   "metadata": {},
   "outputs": [],
   "source": [
    "wiki_apiwrapper = WikipediaAPIWrapper(top_k_results=3, doc_content_chars_max=4000)"
   ]
  },
  {
   "cell_type": "code",
   "execution_count": 41,
   "id": "98c2f908",
   "metadata": {},
   "outputs": [],
   "source": [
    "wikiquerytool=WikipediaQueryRun(api_wrapper=wiki_apiwrapper, handle_tool_error=True)"
   ]
  },
  {
   "cell_type": "code",
   "execution_count": 42,
   "id": "d8e99c80",
   "metadata": {},
   "outputs": [
    {
     "name": "stdout",
     "output_type": "stream",
     "text": [
      "('A wrapper around Wikipedia. Useful for when you need to answer general '\n",
      " 'questions about people, places, companies, facts, historical events, or '\n",
      " 'other subjects. Input should be a search query.')\n"
     ]
    }
   ],
   "source": [
    "pp(wikiquerytool.description)"
   ]
  },
  {
   "cell_type": "code",
   "execution_count": 43,
   "id": "13091588",
   "metadata": {},
   "outputs": [
    {
     "name": "stdout",
     "output_type": "stream",
     "text": [
      "{'query': {'description': 'query to look up on wikipedia',\n",
      "           'title': 'Query',\n",
      "           'type': 'string'}}\n"
     ]
    }
   ],
   "source": [
    "pp(wikiquerytool.args)"
   ]
  },
  {
   "cell_type": "code",
   "execution_count": 47,
   "id": "e683642e",
   "metadata": {},
   "outputs": [],
   "source": [
    "#pprint(wikiquerytool.invoke({'query': 'Narendra Modi'}))"
   ]
  },
  {
   "cell_type": "code",
   "execution_count": 45,
   "id": "8a662009",
   "metadata": {},
   "outputs": [],
   "source": [
    "respose=wikiquerytool.invoke({'query': 'multimodal rag'})"
   ]
  },
  {
   "cell_type": "code",
   "execution_count": 46,
   "id": "b7dfbeaf",
   "metadata": {},
   "outputs": [
    {
     "name": "stdout",
     "output_type": "stream",
     "text": [
      "Page: Large language model\n",
      "Summary: A large language model (LLM) is a machine learning model designed for natural language processing tasks, especially language generation. LLMs are language models with many parameters, and are trained with self-supervised learning on a vast amount of text.\n",
      "The largest and most capable LLMs are generative pretrained transformers (GPTs), which are largely used in generative chatbots such as ChatGPT or Gemini. LLMs can be fine-tuned for specific tasks or guided by prompt engineering. These models acquire predictive power regarding syntax, semantics, and ontologies inherent in human language corpora, but they also inherit inaccuracies and biases present in the data they are trained in.\n",
      "\n",
      "\n",
      "\n",
      "Page: Prompt injection\n",
      "Summary: Prompt injection is a cybersecurity exploit in which adversaries craft inputs that appear legitimate but are designed to cause unintended behavior in  machine learning models, particularly large language models (LLMs). This attack takes advantage of the model's inability to distinguish between developer-defined prompts and user inputs, allowing adversaries to bypass safeguards and influence model behaviour. While LLMs are designed to follow trusted instructions, they can be manipulated into carrying out unintended responses through carefully crafted inputs.\n",
      "The Open Worldwide Application Security Project (OWASP) ranked prompt injection as the top security risk in its 2025 OWASP Top 10 for LLM Applications report, describing it as a vulnerability that can manipulate LLMs through adversarial inputs.\n",
      "\n",
      "\n",
      "\n",
      "Page: Recursive self-improvement\n",
      "Summary: Recursive self-improvement (RSI) is a process in which an early or weak artificial general intelligence (AGI) system enhances its own capabilities and intelligence without human intervention, leading to a superintelligence or intelligence explosion.\n",
      "The development of recursive self-improvement raises significant ethical and safety concerns, as such systems may evolve in unforeseen ways and could potentially surpass human control or understanding.\n"
     ]
    }
   ],
   "source": [
    "print(respose)"
   ]
  },
  {
   "cell_type": "code",
   "execution_count": 48,
   "id": "2ffdeb01",
   "metadata": {},
   "outputs": [],
   "source": [
    "from langchain_community.tools import YouTubeSearchTool"
   ]
  },
  {
   "cell_type": "code",
   "execution_count": 49,
   "id": "0b7b05ca",
   "metadata": {},
   "outputs": [],
   "source": [
    "utube= YouTubeSearchTool()"
   ]
  },
  {
   "cell_type": "code",
   "execution_count": 51,
   "id": "c41bf31d",
   "metadata": {},
   "outputs": [
    {
     "data": {
      "text/plain": [
       "\"['https://www.youtube.com/watch?v=_V3zqVlCACQ&pp=ygUNc3Vubnkgc2F2aXRoYQ%3D%3D', 'https://www.youtube.com/watch?v=6GnsndNL5u4&pp=ygUNc3Vubnkgc2F2aXRoYQ%3D%3D']\""
      ]
     },
     "execution_count": 51,
     "metadata": {},
     "output_type": "execute_result"
    }
   ],
   "source": [
    "utube('sunny savitha')"
   ]
  },
  {
   "cell_type": "code",
   "execution_count": 53,
   "id": "e00b0cb7",
   "metadata": {},
   "outputs": [
    {
     "data": {
      "text/plain": [
       "\"['https://www.youtube.com/watch?v=JxgmHe2NyeY&pp=ygUKa3Jpc2ggbmFpaw%3D%3D', 'https://www.youtube.com/watch?v=p4pHsuEf4Ms&pp=ygUKa3Jpc2ggbmFpaw%3D%3D']\""
      ]
     },
     "execution_count": 53,
     "metadata": {},
     "output_type": "execute_result"
    }
   ],
   "source": [
    "utube('krish naik')"
   ]
  },
  {
   "cell_type": "code",
   "execution_count": 54,
   "id": "4a14e64f",
   "metadata": {},
   "outputs": [],
   "source": [
    "from langchain_community.tools import TavilySearchResults\n"
   ]
  },
  {
   "cell_type": "code",
   "execution_count": 64,
   "id": "50f0cc55",
   "metadata": {},
   "outputs": [],
   "source": [
    "#to Crawl internet realtime use Tavilty\n",
    "tsr=TavilySearchResults(max_results=3,topic=\"general\")"
   ]
  },
  {
   "cell_type": "code",
   "execution_count": 65,
   "id": "03dacfec",
   "metadata": {},
   "outputs": [
    {
     "data": {
      "text/plain": [
       "[{'title': \"Bengaluru stampede case: What we know so far on RCB's ...\",\n",
       "  'url': 'https://timesofindia.indiatimes.com/sports/cricket/ipl/top-stories/bengaluru-stampede-case-what-we-know-so-far-on-rcbs-celebrations-that-turned-catastrophic/articleshow/121670873.cms',\n",
       "  'content': \"[Follow us](https://news.google.com/publications/CAAqBwgKMM6y_Qowwu70Ag)\\n\\nRoyal Challengers Bengaluru's IPL victory celebrations turned tragic as a stampede at M Chinnaswamy Stadium resulted in 11 deaths and 75 injuries. FIRs have been filed against RCB, events organisers DNA, and Karnataka State Cricket Association for alleged negligence. The Karnataka High Court has sought a report from the government while arrests have been and officials suspended.\\n\\nRead More [...] [](https://timesofindia.indiatimes.com/city/bengaluru/celebrations-turn-tragic-bloodbath-at-rcbs-maiden-ipl-trophy-victory-day-to-remember-forever-see-pics/photostory/121646177.cms)[Celebrations turn tragic: Bloodbath at RCB’s maiden IPL trophy victory, day to remember forever | see pics Lakhs of fans had gathered around Chinnaswamy Stadium, celebrating RCB’s historic first-ever IPL title with joy and excitement.Times Of\",\n",
       "  'score': 0.8539252},\n",
       " {'title': \"Several Killed as RCB's Victory Celebration Turns Deadly - YouTube\",\n",
       "  'url': 'https://www.youtube.com/watch?v=gz8chxY7elU',\n",
       "  'content': \"At least 11 people were killed and 30 injured in a stampede outside the Chinnaswamy cricket stadium in Bengaluru. The incident happened during the Royal Challengers' victory celebrations after their first IPL triumph in 18 years. Did the state government underestimate the rush? Were crowd control measures not in place? Palki Sharma tells you.\\n\\n--- [...] soon the fan frenzy turned fatal. The exact details are not clear yet but reports say the rush led to a stampede. At least 11 people were killed, including children, and more than 30 were injured. Like I said, the exact sequence of events is unclear, but these pictures give you an idea. Uh you can see fans climbing up fences and trees. In some places, the police pushed back with force. We will show you the pictures, but as always, viewer discretion is advised. [Applause] [Music] [Applause] Such [...] It was supposed to be a day of pure joy, of celebration and pride. Instead, Bengaluru is in shock today. I'm sure you've seen the news and the pictures. Bengaluru was all decked up for a massive celebration today. Their IPL team had finally won the tournament. The Royal Challengers beat Punjab Kings yesterday. It was their first IPL trophy in 18 years. Now the RCB fans are a very passionate lot. Plus they've been waiting for a win since 2008. So they packed the streets of Bengaluru in\",\n",
       "  'score': 0.8482825},\n",
       " {'title': 'RCB victory parade stampede updates: Bengaluru city chief B ...',\n",
       "  'url': 'https://www.thehindu.com/news/national/rcb-ipl-victory-parade-stampede-death-toll-virat-kohli-chinnaswamy-stadium-live/article69656707.ece',\n",
       "  'content': 'Sachin Tendulkar has offered his condolences on the loss of 11 lives in a stampede outside Bengaluru’s Chinnaswamy Stadium during RCB’s IPL victory celebrations, describing the incident as “beyond tragic”.\\n\\nOn the day the stampede broke out in Bengaluru while celebrating the victory of Royal Challengers Bengaluru (RCB) in the IPL final, killing 11 and leaving scores injured, the Namma Metro witnessed unprecedented footfall. [...] A stampede that broke out near the Chinnaswamy stadium in Bengaluru, after fans gathered to celebrate Royal Challengers Bengaluru’s IPL win, led to the [deaths of 11 persons and injuries to 33](https://www.thehindu.com/news/cities/bangalore/rcb-ipl-victory-celebrations-stampede-bengaluru-death-toll/article69656538.ece) on Wednesday (June 4, 2025). The tragedy unfolded near the gates of the stadium, where over 2 lakh fans had gathered to mark RCB’s historic first title win in 18 years. [...] In a post on X, Mr. Bommai said following the Royal Challengers Bangalore (RCB) team lifting the IPL trophy, the state government hastily organised a victory celebration event without proper planning, leading to a tragic stampede that claimed the lives of more than ten innocent people. Organising two events in a hurry without any prior preparation and allowing an overwhelming number of people to attend both clearly demonstrates the government’s complete negligence and irresponsibility.',\n",
       "  'score': 0.834852}]"
      ]
     },
     "execution_count": 65,
     "metadata": {},
     "output_type": "execute_result"
    }
   ],
   "source": [
    "tsr.invoke(\"what happened in rcb victory celebration\")"
   ]
  },
  {
   "cell_type": "code",
   "execution_count": null,
   "id": "524591a1",
   "metadata": {},
   "outputs": [],
   "source": [
    "#Custom tool\n",
    "from langchain.tools import tool\n",
    "@tool                                  ## use tool decorator \n",
    "def mutiply(a:int, b:int) -> int:\n",
    "    \"\"\"\n",
    "     this tool will help multiply two numbers and return\n",
    "    \"\"\"\n",
    "    return a * b"
   ]
  },
  {
   "cell_type": "code",
   "execution_count": 73,
   "id": "ba4c866e",
   "metadata": {},
   "outputs": [],
   "source": [
    "response=mutiply.invoke({'a':3, 'b':4 })   # when calling tool  use invoke and pass in dict, invoke will be part of chain so always call invoke when using chains"
   ]
  },
  {
   "cell_type": "code",
   "execution_count": 76,
   "id": "8301d0de",
   "metadata": {},
   "outputs": [
    {
     "data": {
      "text/plain": [
       "'mutiply'"
      ]
     },
     "execution_count": 76,
     "metadata": {},
     "output_type": "execute_result"
    }
   ],
   "source": [
    "mutiply.name"
   ]
  },
  {
   "cell_type": "code",
   "execution_count": 75,
   "id": "effd3411",
   "metadata": {},
   "outputs": [
    {
     "data": {
      "text/plain": [
       "12"
      ]
     },
     "execution_count": 75,
     "metadata": {},
     "output_type": "execute_result"
    }
   ],
   "source": [
    "response"
   ]
  },
  {
   "cell_type": "code",
   "execution_count": 77,
   "id": "efe00668",
   "metadata": {},
   "outputs": [
    {
     "data": {
      "text/plain": [
       "{'a': {'title': 'A', 'type': 'integer'},\n",
       " 'b': {'title': 'B', 'type': 'integer'}}"
      ]
     },
     "execution_count": 77,
     "metadata": {},
     "output_type": "execute_result"
    }
   ],
   "source": [
    "mutiply.args"
   ]
  },
  {
   "cell_type": "code",
   "execution_count": 98,
   "id": "cebaa796",
   "metadata": {},
   "outputs": [],
   "source": [
    "@tool\n",
    "def get_word_length(input: str) -> int:           ### tools always need to docstring \n",
    "    \"\"\"\n",
    "    Returns the length of the input word.\n",
    "\n",
    "    Args:\n",
    "        input (str): The input string.\n",
    "\n",
    "    Returns:\n",
    "        int: The length of the input string.\n",
    "    \"\"\"\n",
    "    return len(input)"
   ]
  },
  {
   "cell_type": "code",
   "execution_count": 96,
   "id": "a3d863f7",
   "metadata": {},
   "outputs": [
    {
     "data": {
      "text/plain": [
       "6"
      ]
     },
     "execution_count": 96,
     "metadata": {},
     "output_type": "execute_result"
    }
   ],
   "source": [
    "get_word_length(\"milind\")"
   ]
  },
  {
   "cell_type": "code",
   "execution_count": 97,
   "id": "4d88db1f",
   "metadata": {},
   "outputs": [
    {
     "data": {
      "text/plain": [
       "6"
      ]
     },
     "execution_count": 97,
     "metadata": {},
     "output_type": "execute_result"
    }
   ],
   "source": [
    "get_word_length.invoke(input=\"milind\")"
   ]
  },
  {
   "cell_type": "code",
   "execution_count": null,
   "id": "68d55818",
   "metadata": {},
   "outputs": [],
   "source": []
  }
 ],
 "metadata": {
  "kernelspec": {
   "display_name": "llm",
   "language": "python",
   "name": "python3"
  },
  "language_info": {
   "codemirror_mode": {
    "name": "ipython",
    "version": 3
   },
   "file_extension": ".py",
   "mimetype": "text/x-python",
   "name": "python",
   "nbconvert_exporter": "python",
   "pygments_lexer": "ipython3",
   "version": "3.12.10"
  }
 },
 "nbformat": 4,
 "nbformat_minor": 5
}
